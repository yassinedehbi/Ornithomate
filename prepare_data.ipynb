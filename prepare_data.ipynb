{
 "cells": [
  {
   "cell_type": "code",
   "execution_count": 84,
   "metadata": {},
   "outputs": [],
   "source": [
    "import pandas as pd\n",
    "import numpy as np"
   ]
  },
  {
   "cell_type": "code",
   "execution_count": 85,
   "metadata": {},
   "outputs": [
    {
     "name": "stderr",
     "output_type": "stream",
     "text": [
      "/var/folders/wx/9dnl2zsx0klgs6kb36wpqgj00000gn/T/ipykernel_47719/1751112916.py:11: SettingWithCopyWarning: \n",
      "A value is trying to be set on a copy of a slice from a DataFrame.\n",
      "Try using .loc[row_indexer,col_indexer] = value instead\n",
      "\n",
      "See the caveats in the documentation: https://pandas.pydata.org/pandas-docs/stable/user_guide/indexing.html#returning-a-view-versus-a-copy\n",
      "  df['image_label'] = df['image_label'].map(mapping)\n",
      "/var/folders/wx/9dnl2zsx0klgs6kb36wpqgj00000gn/T/ipykernel_47719/1751112916.py:12: SettingWithCopyWarning: \n",
      "A value is trying to be set on a copy of a slice from a DataFrame.\n",
      "Try using .loc[row_indexer,col_indexer] = value instead\n",
      "\n",
      "See the caveats in the documentation: https://pandas.pydata.org/pandas-docs/stable/user_guide/indexing.html#returning-a-view-versus-a-copy\n",
      "  df['image_file'] = df['image_file'].map(lambda f : '/Users/yassinedehbi/ProjetLong/birds-data/images/' + f)\n"
     ]
    },
    {
     "data": {
      "text/html": [
       "<div>\n",
       "<style scoped>\n",
       "    .dataframe tbody tr th:only-of-type {\n",
       "        vertical-align: middle;\n",
       "    }\n",
       "\n",
       "    .dataframe tbody tr th {\n",
       "        vertical-align: top;\n",
       "    }\n",
       "\n",
       "    .dataframe thead th {\n",
       "        text-align: right;\n",
       "    }\n",
       "</style>\n",
       "<table border=\"1\" class=\"dataframe\">\n",
       "  <thead>\n",
       "    <tr style=\"text-align: right;\">\n",
       "      <th></th>\n",
       "      <th>image_file</th>\n",
       "      <th>xmin</th>\n",
       "      <th>ymin</th>\n",
       "      <th>xmax</th>\n",
       "      <th>ymax</th>\n",
       "      <th>image_label</th>\n",
       "    </tr>\n",
       "  </thead>\n",
       "  <tbody>\n",
       "    <tr>\n",
       "      <th>1403</th>\n",
       "      <td>/Users/yassinedehbi/ProjetLong/birds-data/imag...</td>\n",
       "      <td>0.0</td>\n",
       "      <td>38.0</td>\n",
       "      <td>468.0</td>\n",
       "      <td>290.0</td>\n",
       "      <td>1</td>\n",
       "    </tr>\n",
       "    <tr>\n",
       "      <th>1404</th>\n",
       "      <td>/Users/yassinedehbi/ProjetLong/birds-data/imag...</td>\n",
       "      <td>79.0</td>\n",
       "      <td>124.0</td>\n",
       "      <td>225.0</td>\n",
       "      <td>262.0</td>\n",
       "      <td>1</td>\n",
       "    </tr>\n",
       "    <tr>\n",
       "      <th>1405</th>\n",
       "      <td>/Users/yassinedehbi/ProjetLong/birds-data/imag...</td>\n",
       "      <td>20.0</td>\n",
       "      <td>105.0</td>\n",
       "      <td>370.0</td>\n",
       "      <td>227.0</td>\n",
       "      <td>1</td>\n",
       "    </tr>\n",
       "    <tr>\n",
       "      <th>1406</th>\n",
       "      <td>/Users/yassinedehbi/ProjetLong/birds-data/imag...</td>\n",
       "      <td>160.0</td>\n",
       "      <td>42.0</td>\n",
       "      <td>337.0</td>\n",
       "      <td>295.0</td>\n",
       "      <td>1</td>\n",
       "    </tr>\n",
       "    <tr>\n",
       "      <th>1407</th>\n",
       "      <td>/Users/yassinedehbi/ProjetLong/birds-data/imag...</td>\n",
       "      <td>90.0</td>\n",
       "      <td>87.0</td>\n",
       "      <td>349.0</td>\n",
       "      <td>198.0</td>\n",
       "      <td>1</td>\n",
       "    </tr>\n",
       "    <tr>\n",
       "      <th>...</th>\n",
       "      <td>...</td>\n",
       "      <td>...</td>\n",
       "      <td>...</td>\n",
       "      <td>...</td>\n",
       "      <td>...</td>\n",
       "      <td>...</td>\n",
       "    </tr>\n",
       "    <tr>\n",
       "      <th>1988</th>\n",
       "      <td>/Users/yassinedehbi/ProjetLong/birds-data/imag...</td>\n",
       "      <td>115.0</td>\n",
       "      <td>116.0</td>\n",
       "      <td>141.0</td>\n",
       "      <td>226.0</td>\n",
       "      <td>10</td>\n",
       "    </tr>\n",
       "    <tr>\n",
       "      <th>1989</th>\n",
       "      <td>/Users/yassinedehbi/ProjetLong/birds-data/imag...</td>\n",
       "      <td>114.0</td>\n",
       "      <td>48.0</td>\n",
       "      <td>177.0</td>\n",
       "      <td>117.0</td>\n",
       "      <td>10</td>\n",
       "    </tr>\n",
       "    <tr>\n",
       "      <th>1990</th>\n",
       "      <td>/Users/yassinedehbi/ProjetLong/birds-data/imag...</td>\n",
       "      <td>129.0</td>\n",
       "      <td>96.0</td>\n",
       "      <td>168.0</td>\n",
       "      <td>215.0</td>\n",
       "      <td>10</td>\n",
       "    </tr>\n",
       "    <tr>\n",
       "      <th>1991</th>\n",
       "      <td>/Users/yassinedehbi/ProjetLong/birds-data/imag...</td>\n",
       "      <td>118.0</td>\n",
       "      <td>97.0</td>\n",
       "      <td>177.0</td>\n",
       "      <td>184.0</td>\n",
       "      <td>10</td>\n",
       "    </tr>\n",
       "    <tr>\n",
       "      <th>1992</th>\n",
       "      <td>/Users/yassinedehbi/ProjetLong/birds-data/imag...</td>\n",
       "      <td>94.0</td>\n",
       "      <td>119.0</td>\n",
       "      <td>353.0</td>\n",
       "      <td>180.0</td>\n",
       "      <td>10</td>\n",
       "    </tr>\n",
       "  </tbody>\n",
       "</table>\n",
       "<p>590 rows × 6 columns</p>\n",
       "</div>"
      ],
      "text/plain": [
       "                                             image_file   xmin   ymin   xmax  \\\n",
       "1403  /Users/yassinedehbi/ProjetLong/birds-data/imag...    0.0   38.0  468.0   \n",
       "1404  /Users/yassinedehbi/ProjetLong/birds-data/imag...   79.0  124.0  225.0   \n",
       "1405  /Users/yassinedehbi/ProjetLong/birds-data/imag...   20.0  105.0  370.0   \n",
       "1406  /Users/yassinedehbi/ProjetLong/birds-data/imag...  160.0   42.0  337.0   \n",
       "1407  /Users/yassinedehbi/ProjetLong/birds-data/imag...   90.0   87.0  349.0   \n",
       "...                                                 ...    ...    ...    ...   \n",
       "1988  /Users/yassinedehbi/ProjetLong/birds-data/imag...  115.0  116.0  141.0   \n",
       "1989  /Users/yassinedehbi/ProjetLong/birds-data/imag...  114.0   48.0  177.0   \n",
       "1990  /Users/yassinedehbi/ProjetLong/birds-data/imag...  129.0   96.0  168.0   \n",
       "1991  /Users/yassinedehbi/ProjetLong/birds-data/imag...  118.0   97.0  177.0   \n",
       "1992  /Users/yassinedehbi/ProjetLong/birds-data/imag...   94.0  119.0  353.0   \n",
       "\n",
       "       ymax  image_label  \n",
       "1403  290.0            1  \n",
       "1404  262.0            1  \n",
       "1405  227.0            1  \n",
       "1406  295.0            1  \n",
       "1407  198.0            1  \n",
       "...     ...          ...  \n",
       "1988  226.0           10  \n",
       "1989  117.0           10  \n",
       "1990  215.0           10  \n",
       "1991  184.0           10  \n",
       "1992  180.0           10  \n",
       "\n",
       "[590 rows x 6 columns]"
      ]
     },
     "execution_count": 85,
     "metadata": {},
     "output_type": "execute_result"
    }
   ],
   "source": [
    "image_files = pd.read_csv('/Users/yassinedehbi/ProjetLong/birds-data/images.txt',sep=' ', names=['image_file'])\n",
    "image_labels = pd.read_csv('/Users/yassinedehbi/ProjetLong/birds-data/image_class_labels.txt',sep=' ', names=['image_label'])\n",
    "bounding_boxes = pd.read_csv('/Users/yassinedehbi/ProjetLong/birds-data/bounding_boxes.txt',sep=' ', names=['xmin', 'ymin', 'xmax', 'ymax'])\n",
    "image_data = pd.concat([image_files, bounding_boxes, image_labels], axis=1, ignore_index=False)\n",
    "\n",
    "\n",
    "df = image_data.loc[(image_data['image_label'] > 25) & (image_data['image_label'] < 36)]\n",
    "#df['image_label'].value_counts()\n",
    "mapping = {i: i-25 for i in range(26,36)}\n",
    "mapping\n",
    "df['image_label'] = df['image_label'].map(mapping)\n",
    "df['image_file'] = df['image_file'].map(lambda f : '/Users/yassinedehbi/ProjetLong/birds-data/images/' + f)\n",
    "df\n",
    "\n"
   ]
  },
  {
   "cell_type": "code",
   "execution_count": 86,
   "metadata": {},
   "outputs": [],
   "source": [
    "from sklearn.model_selection import train_test_split\n",
    "\n",
    "df_train, df_val, df_test =  np.split(df.sample(frac=1, random_state=42), [int(.6*len(df)), int(.8*len(df))])"
   ]
  },
  {
   "cell_type": "code",
   "execution_count": 87,
   "metadata": {},
   "outputs": [],
   "source": [
    "df_train = np.asarray(df_train)\n",
    "df_val = np.asarray(df_val)\n",
    "df_test = np.asarray(df_test)"
   ]
  },
  {
   "cell_type": "markdown",
   "metadata": {},
   "source": []
  },
  {
   "cell_type": "code",
   "execution_count": 88,
   "metadata": {},
   "outputs": [],
   "source": [
    "file = open('/Users/yassinedehbi/ProjetLong/birds-data/train.txt', 'w')\n",
    "for element in df_train:\n",
    "    file.write(element[0]+ ' ' + str(element[1]) + ','+str(element[2])+ ','+str(element[3]) + ','+str(element[4]) + ',' +str(element[5])+'\\n')\n",
    "file.close()\n",
    "file = open('/Users/yassinedehbi/ProjetLong/birds-data/val.txt', 'w')\n",
    "for element in df_val:\n",
    "    file.write(element[0]+ ' ' + str(element[1]) + ','+str(element[2])+ ','+str(element[3]) + ','+str(element[4]) + ',' +str(element[5])+'\\n')\n",
    "file.close()\n",
    "file = open('/Users/yassinedehbi/ProjetLong/birds-data/test.txt', 'w')\n",
    "for element in df_test:\n",
    "    file.write(element[0]+ ' ' + str(element[1]) + ','+str(element[2])+ ','+str(element[3]) + ','+str(element[4]) + ',' +str(element[5])+'\\n')\n",
    "file.close()\n"
   ]
  },
  {
   "cell_type": "code",
   "execution_count": 68,
   "metadata": {},
   "outputs": [],
   "source": [
    "labels = ['010.Red_winged_Blackbird','011.Rusty_Blackbird','012.Yellow_headed_Blackbird','013.Bobolink', '014.Indigo_Bunting' ]\n",
    "\n",
    "#10-22, 26-36"
   ]
  },
  {
   "cell_type": "code",
   "execution_count": 91,
   "metadata": {},
   "outputs": [],
   "source": [
    "line = ['/Users/yassinedehbi/ProjetLong/birds-data/images/027.Shiny_Cowbird/Shiny_Cowbird_0085_796839.jpg', '59.0,32.0,289.0,409.0,2']"
   ]
  },
  {
   "cell_type": "code",
   "execution_count": 92,
   "metadata": {},
   "outputs": [
    {
     "ename": "ValueError",
     "evalue": "invalid literal for int() with base 10: '59.0'",
     "output_type": "error",
     "traceback": [
      "\u001b[0;31m---------------------------------------------------------------------------\u001b[0m",
      "\u001b[0;31mValueError\u001b[0m                                Traceback (most recent call last)",
      "\u001b[1;32m/Users/yassinedehbi/ProjetLong/prepare_data.ipynb Cell 9'\u001b[0m in \u001b[0;36m<module>\u001b[0;34m\u001b[0m\n\u001b[0;32m----> <a href='vscode-notebook-cell:/Users/yassinedehbi/ProjetLong/prepare_data.ipynb#ch0000009?line=0'>1</a>\u001b[0m box \u001b[39m=\u001b[39m np\u001b[39m.\u001b[39marray([np\u001b[39m.\u001b[39marray(\u001b[39mlist\u001b[39m(\u001b[39mmap\u001b[39m(\u001b[39mint\u001b[39m,box\u001b[39m.\u001b[39msplit(\u001b[39m'\u001b[39m\u001b[39m,\u001b[39m\u001b[39m'\u001b[39m)))) \u001b[39mfor\u001b[39;00m box \u001b[39min\u001b[39;00m line[\u001b[39m1\u001b[39m:]])\n",
      "\u001b[1;32m/Users/yassinedehbi/ProjetLong/prepare_data.ipynb Cell 9'\u001b[0m in \u001b[0;36m<listcomp>\u001b[0;34m(.0)\u001b[0m\n\u001b[0;32m----> <a href='vscode-notebook-cell:/Users/yassinedehbi/ProjetLong/prepare_data.ipynb#ch0000009?line=0'>1</a>\u001b[0m box \u001b[39m=\u001b[39m np\u001b[39m.\u001b[39marray([np\u001b[39m.\u001b[39marray(\u001b[39mlist\u001b[39;49m(\u001b[39mmap\u001b[39;49m(\u001b[39mint\u001b[39;49m,box\u001b[39m.\u001b[39;49msplit(\u001b[39m'\u001b[39;49m\u001b[39m,\u001b[39;49m\u001b[39m'\u001b[39;49m)))) \u001b[39mfor\u001b[39;00m box \u001b[39min\u001b[39;00m line[\u001b[39m1\u001b[39m:]])\n",
      "\u001b[0;31mValueError\u001b[0m: invalid literal for int() with base 10: '59.0'"
     ]
    }
   ],
   "source": [
    "box = np.array([np.array(list(map(int,map(float,box.split(','))))) for box in line[1:]])"
   ]
  },
  {
   "cell_type": "code",
   "execution_count": null,
   "metadata": {},
   "outputs": [],
   "source": []
  }
 ],
 "metadata": {
  "interpreter": {
   "hash": "b87eb56ff03eaceb1742ec7a2d74cec9ddd0943f2692c805e81f9255121b9302"
  },
  "kernelspec": {
   "display_name": "Python 3.9.9 ('env': venv)",
   "language": "python",
   "name": "python3"
  },
  "language_info": {
   "codemirror_mode": {
    "name": "ipython",
    "version": 3
   },
   "file_extension": ".py",
   "mimetype": "text/x-python",
   "name": "python",
   "nbconvert_exporter": "python",
   "pygments_lexer": "ipython3",
   "version": "3.9.9"
  },
  "orig_nbformat": 4
 },
 "nbformat": 4,
 "nbformat_minor": 2
}

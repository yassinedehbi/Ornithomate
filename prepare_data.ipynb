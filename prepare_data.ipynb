{
 "cells": [
  {
   "cell_type": "code",
   "execution_count": 75,
   "metadata": {},
   "outputs": [],
   "source": [
    "import pandas as pd\n",
    "import numpy as np\n",
    "import os\n"
   ]
  },
  {
   "cell_type": "markdown",
   "metadata": {},
   "source": []
  },
  {
   "cell_type": "code",
   "execution_count": 77,
   "metadata": {},
   "outputs": [],
   "source": [
    "l1 = os.listdir('/Users/yassinedehbi/ProjetLong/OrnithoMateData/cvat_annotations')\n",
    "l1_wip = os.listdir('/Users/yassinedehbi/ProjetLong/OrnithoMateData/cvat_annotations_wip')"
   ]
  },
  {
   "cell_type": "code",
   "execution_count": 91,
   "metadata": {},
   "outputs": [],
   "source": [
    "\n",
    "import xml.etree.ElementTree as ET\n",
    "my_mapping = {'SITTOR':0, 'PINARB':1, 'ROUGOR':2, 'MESCHA':3, 'MESNON':4, 'ACCMOU':5, 'MESBLE':6}\n",
    "def parse_doc(xml_file:str):\n",
    "    final_list = []\n",
    "    root =  ET.parse(xml_file).getroot()\n",
    "    l = root.findall(\"image\")\n",
    "    for element in l:        \n",
    "        image_dict = {}\n",
    "        pathh = element.attrib['name']\n",
    "        k = pathh.split('/')\n",
    "        k[0] = '/Users/yassinedehbi/ProjetLong/OrnithoMateData/raw_data'\n",
    "        separator = '/'\n",
    "        pathh = separator.join(k)\n",
    "        image_dict['path'] = pathh\n",
    "        image_dict['width'] = element.attrib['width']\n",
    "        image_dict['height'] = element.attrib['height']\n",
    "        image_dict['elements'] = []\n",
    "        boxes = element.findall(\"box\")\n",
    "        box_dict = {}\n",
    "        for box in boxes:\n",
    "            for attribue in box.findall('.//attribute'):\n",
    "                if attribue.attrib['name']==\"species\":\n",
    "                    if attribue.text == 'noBird' or attribue.text == 'unknown' or attribue.text == 'human':\n",
    "                        pass\n",
    "                    else :\n",
    "\n",
    "                        #box_dict[\"label\"] = my_mapping[attribue.text]\n",
    "                        box_dict[\"label\"] = attribue.text\n",
    "                        box_dict[\"xtl\"] = box.attrib[\"xtl\"]\n",
    "                        box_dict[\"ytl\"] = box.attrib[\"ytl\"]\n",
    "                        box_dict[\"xbr\"] = box.attrib[\"xbr\"]\n",
    "                        box_dict[\"ybr\"] = box.attrib[\"ybr\"]\n",
    "            \n",
    "                        image_dict['elements'].append(box_dict)\n",
    "                else:\n",
    "                    pass\n",
    "        final_list.append(image_dict)\n",
    "    return final_list"
   ]
  },
  {
   "cell_type": "code",
   "execution_count": 92,
   "metadata": {},
   "outputs": [],
   "source": [
    "l = []\n",
    "for xml_file in os.listdir('/Users/yassinedehbi/ProjetLong/OrnithoMateData/cvat_annotations_wip'):\n",
    "    ll = parse_doc('/Users/yassinedehbi/ProjetLong/OrnithoMateData/cvat_annotations_wip/'+xml_file)\n",
    "    l+=ll\n",
    "for xml_file in os.listdir('/Users/yassinedehbi/ProjetLong/OrnithoMateData/cvat_annotations_copy'):\n",
    "    ll = parse_doc('/Users/yassinedehbi/ProjetLong/OrnithoMateData/cvat_annotations_copy/'+xml_file)\n",
    "    l+=ll\n"
   ]
  },
  {
   "cell_type": "code",
   "execution_count": 93,
   "metadata": {},
   "outputs": [],
   "source": [
    "labels = []\n",
    "for khrya in l :\n",
    "    liste_elements = khrya['elements']\n",
    "    if len(liste_elements) != 0:\n",
    "        for boxx in liste_elements:\n",
    "            #labels.add(box['label'])\n",
    "            labels.append(boxx['label'])\n",
    "\n",
    "\n"
   ]
  },
  {
   "cell_type": "code",
   "execution_count": 94,
   "metadata": {},
   "outputs": [],
   "source": [
    "labels = list(set(labels))"
   ]
  },
  {
   "cell_type": "code",
   "execution_count": 95,
   "metadata": {},
   "outputs": [
    {
     "data": {
      "text/plain": [
       "['SITTOR',\n",
       " 'PINARB',\n",
       " 'TOUTUR',\n",
       " 'ROUGOR',\n",
       " 'MESCHA',\n",
       " 'MOIDOM',\n",
       " 'MESNON',\n",
       " 'VEREUR',\n",
       " 'ACCMOU',\n",
       " 'MESBLE']"
      ]
     },
     "execution_count": 95,
     "metadata": {},
     "output_type": "execute_result"
    }
   ],
   "source": [
    "#labels ['SITTOR','PINARB','TOUTUR','ROUGOR','MESCHA','MOIDOM','MESNON','VEREUR','ACCMOU','MESBLE']"
   ]
  },
  {
   "cell_type": "code",
   "execution_count": 96,
   "metadata": {},
   "outputs": [
    {
     "data": {
      "text/plain": [
       "10"
      ]
     },
     "execution_count": 96,
     "metadata": {},
     "output_type": "execute_result"
    }
   ],
   "source": [
    "len(labels)"
   ]
  },
  {
   "cell_type": "code",
   "execution_count": 108,
   "metadata": {},
   "outputs": [
    {
     "data": {
      "text/plain": [
       "6"
      ]
     },
     "execution_count": 108,
     "metadata": {},
     "output_type": "execute_result"
    }
   ],
   "source": [
    "my_mapping = {labels[i]:i for i in range(len(labels))}\n",
    "\n",
    "my_mapping['MESNON']"
   ]
  },
  {
   "cell_type": "code",
   "execution_count": 112,
   "metadata": {},
   "outputs": [],
   "source": [
    "data_file = open('/Users/yassinedehbi/ProjetLong/data.txt', 'w')\n",
    "for img in l:\n",
    "    line = img['path'] + ' '\n",
    "    if len(img['elements']) !=0:\n",
    "        for element in img['elements']:\n",
    "            line += element['xtl'] + ',' + element['ytl'] + ',' + element['xbr'] + ',' +  element['ybr'] + ','+ str(my_mapping[element['label']]) + ' '\n",
    "        data_file.write(line+'\\n')"
   ]
  },
  {
   "cell_type": "code",
   "execution_count": 125,
   "metadata": {},
   "outputs": [],
   "source": [
    "with open('/Users/yassinedehbi/ProjetLong/data.txt', 'r') as dl:\n",
    "    lines = dl.readlines()\n",
    "#lines\n",
    "np.random.seed(10101)\n",
    "np.random.shuffle(lines)\n",
    "np.random.seed(None)\n",
    "total = len(lines)\n",
    "train_lines = lines[:int(len(lines)*0.8)]\n",
    "val_lines = lines[int(len(lines)*0.8):int(len(lines)*0.9)]\n",
    "test_lines = lines[int(len(lines)*0.9):]\n"
   ]
  },
  {
   "cell_type": "code",
   "execution_count": 63,
   "metadata": {},
   "outputs": [],
   "source": [
    "train_file = open('/Users/yassinedehbi/ProjetLong/train_data.txt', 'w')\n",
    "val_file = open('/Users/yassinedehbi/ProjetLong/val_data.txt', 'w')\n",
    "test_file = open('/Users/yassinedehbi/ProjetLong/test_data.txt', 'w')\n",
    "train_file.writelines(train_lines)\n",
    "val_file.writelines(val_lines)\n",
    "test_file.writelines(test_lines)"
   ]
  },
  {
   "cell_type": "code",
   "execution_count": 124,
   "metadata": {},
   "outputs": [
    {
     "data": {
      "text/plain": [
       "9914"
      ]
     },
     "execution_count": 124,
     "metadata": {},
     "output_type": "execute_result"
    }
   ],
   "source": [
    "len(l)"
   ]
  },
  {
   "cell_type": "code",
   "execution_count": null,
   "metadata": {},
   "outputs": [],
   "source": []
  }
 ],
 "metadata": {
  "interpreter": {
   "hash": "b87eb56ff03eaceb1742ec7a2d74cec9ddd0943f2692c805e81f9255121b9302"
  },
  "kernelspec": {
   "display_name": "Python 3.9.9 ('env': venv)",
   "language": "python",
   "name": "python3"
  },
  "language_info": {
   "codemirror_mode": {
    "name": "ipython",
    "version": 3
   },
   "file_extension": ".py",
   "mimetype": "text/x-python",
   "name": "python",
   "nbconvert_exporter": "python",
   "pygments_lexer": "ipython3",
   "version": "3.9.9"
  },
  "orig_nbformat": 4
 },
 "nbformat": 4,
 "nbformat_minor": 2
}

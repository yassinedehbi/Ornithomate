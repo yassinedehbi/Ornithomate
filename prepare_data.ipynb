{
 "cells": [
  {
   "cell_type": "code",
   "execution_count": 41,
   "metadata": {},
   "outputs": [],
   "source": [
    "import pandas as pd\n",
    "import numpy as np\n",
    "import os\n"
   ]
  },
  {
   "cell_type": "markdown",
   "metadata": {},
   "source": []
  },
  {
   "cell_type": "code",
   "execution_count": 49,
   "metadata": {},
   "outputs": [],
   "source": [
    "\n",
    "import xml.etree.ElementTree as ET\n",
    "my_mapping = {'SITTOR':0, 'PINARB':1, 'ROUGOR':2, 'MESCHA':3, 'MESNON':4, 'ACCMOU':5, 'MESBLE':6}\n",
    "def parse_doc(xml_file:str):\n",
    "    final_list = []\n",
    "    root =  ET.parse(xml_file).getroot()\n",
    "    l = root.findall(\"image\")\n",
    "    for element in l:        \n",
    "        image_dict = {}\n",
    "        pathh = element.attrib['name']\n",
    "        k = pathh.split('/')\n",
    "        k[0] = '/Users/yassinedehbi/ProjetLong/OrnithoMateData/raw_data'\n",
    "        separator = '/'\n",
    "        pathh = separator.join(k)\n",
    "        image_dict['path'] = pathh\n",
    "        image_dict['width'] = element.attrib['width']\n",
    "        image_dict['height'] = element.attrib['height']\n",
    "        image_dict['elements'] = []\n",
    "        boxes = element.findall(\"box\")\n",
    "        box_dict = {}\n",
    "        for box in boxes:\n",
    "            for attribue in box.findall('.//attribute'):\n",
    "                if attribue.attrib['name']==\"species\":\n",
    "                    if attribue.text == 'noBird' or attribue.text == 'unknown':\n",
    "                        pass\n",
    "                    else :\n",
    "\n",
    "                        box_dict[\"label\"] = my_mapping[attribue.text]\n",
    "                        box_dict[\"xtl\"] = box.attrib[\"xtl\"]\n",
    "                        box_dict[\"ytl\"] = box.attrib[\"ytl\"]\n",
    "                        box_dict[\"xbr\"] = box.attrib[\"xbr\"]\n",
    "                        box_dict[\"ybr\"] = box.attrib[\"ybr\"]\n",
    "            \n",
    "                        image_dict['elements'].append(box_dict)\n",
    "                else:\n",
    "                    pass\n",
    "        final_list.append(image_dict)\n",
    "    return final_list"
   ]
  },
  {
   "cell_type": "code",
   "execution_count": 50,
   "metadata": {},
   "outputs": [],
   "source": [
    "l = []\n",
    "for xml_file in os.listdir('/Users/yassinedehbi/ProjetLong/OrnithoMateData/cvat_annotations_wip'):\n",
    "    ll = parse_doc('/Users/yassinedehbi/ProjetLong/OrnithoMateData/cvat_annotations_wip/'+xml_file)\n",
    "    l+=ll"
   ]
  },
  {
   "cell_type": "code",
   "execution_count": 51,
   "metadata": {},
   "outputs": [
    {
     "data": {
      "text/plain": [
       "[{'label': 5,\n",
       "  'xtl': '3.86',\n",
       "  'ytl': '408.93',\n",
       "  'xbr': '822.06',\n",
       "  'ybr': '995.54'}]"
      ]
     },
     "execution_count": 51,
     "metadata": {},
     "output_type": "execute_result"
    }
   ],
   "source": [
    "l[15]['elements']"
   ]
  },
  {
   "cell_type": "code",
   "execution_count": 52,
   "metadata": {},
   "outputs": [],
   "source": [
    "labels = []\n",
    "for khrya in l :\n",
    "    liste_elements = khrya['elements']\n",
    "    if len(liste_elements) != 0:\n",
    "        for boxx in liste_elements:\n",
    "            #labels.add(box['label'])\n",
    "            labels.append(boxx['label'])\n",
    "\n",
    "\n"
   ]
  },
  {
   "cell_type": "code",
   "execution_count": 53,
   "metadata": {},
   "outputs": [],
   "source": [
    "labels = list(set(labels))"
   ]
  },
  {
   "cell_type": "code",
   "execution_count": 54,
   "metadata": {},
   "outputs": [
    {
     "data": {
      "text/plain": [
       "[0, 1, 2, 3, 4, 5, 6]"
      ]
     },
     "execution_count": 54,
     "metadata": {},
     "output_type": "execute_result"
    }
   ],
   "source": [
    "labels"
   ]
  },
  {
   "cell_type": "code",
   "execution_count": 56,
   "metadata": {},
   "outputs": [
    {
     "data": {
      "text/plain": [
       "{'path': '/Users/yassinedehbi/ProjetLong/OrnithoMateData/raw_data/task_05-01-2021/2021-01-05-17-41-14.jpg',\n",
       " 'width': '1920',\n",
       " 'height': '1088',\n",
       " 'elements': [{'label': 5,\n",
       "   'xtl': '3.86',\n",
       "   'ytl': '408.93',\n",
       "   'xbr': '822.06',\n",
       "   'ybr': '995.54'}]}"
      ]
     },
     "execution_count": 56,
     "metadata": {},
     "output_type": "execute_result"
    }
   ],
   "source": [
    "l[15]"
   ]
  },
  {
   "cell_type": "code",
   "execution_count": 62,
   "metadata": {},
   "outputs": [],
   "source": [
    "train_file = open('/Users/yassinedehbi/ProjetLong/train.txt', 'w')\n",
    "for img in l:\n",
    "    line = img['path'] + ' '\n",
    "    if len(img['elements']) !=0:\n",
    "        for element in img['elements']:\n",
    "            line += element['xtl'] + ',' + element['ytl'] + ',' + element['xbr'] + ',' +  element['ybr'] + ','+ str(element['label']) + ' '\n",
    "        train_file.write(line+'\\n')"
   ]
  },
  {
   "cell_type": "code",
   "execution_count": null,
   "metadata": {},
   "outputs": [],
   "source": [
    "with open('/Users/yassinedehbi/ProjetLong/train.txt') as t_f:\n",
    "        t_lines = t_f.readlines()\n",
    "np.random.seed(10101)\n",
    "np.random.shuffle(t_lines)\n",
    "np.random.seed(None)\n",
    "train_test_pourcentage = len(t_lines)"
   ]
  }
 ],
 "metadata": {
  "interpreter": {
   "hash": "b87eb56ff03eaceb1742ec7a2d74cec9ddd0943f2692c805e81f9255121b9302"
  },
  "kernelspec": {
   "display_name": "Python 3.9.9 ('env': venv)",
   "language": "python",
   "name": "python3"
  },
  "language_info": {
   "codemirror_mode": {
    "name": "ipython",
    "version": 3
   },
   "file_extension": ".py",
   "mimetype": "text/x-python",
   "name": "python",
   "nbconvert_exporter": "python",
   "pygments_lexer": "ipython3",
   "version": "3.9.9"
  },
  "orig_nbformat": 4
 },
 "nbformat": 4,
 "nbformat_minor": 2
}
